{
 "cells": [
  {
   "cell_type": "code",
   "execution_count": null,
   "id": "b8e8409e",
   "metadata": {},
   "outputs": [],
   "source": [
    "import pandas as pd\n",
    "import numpy as np"
   ]
  },
  {
   "cell_type": "code",
   "execution_count": null,
   "id": "9f5974aa",
   "metadata": {},
   "outputs": [],
   "source": [
    "#Initial DataFrames\n",
    "df_1 = pd.DataFrame({\n",
    "    'Col1': {'Row1': 1, 'Row2': 2, 'Row3': 3, 'Row4': 4},\n",
    "    'Col2': {'Row1': 3, 'Row2': 6, 'Row3': 9, 'Row4': 12},\n",
    "    'Col3': {'Row1': 2, 'Row2': 4, 'Row3': 6, 'Row4': 8},\n",
    "    'Col4': {'Row1': 10, 'Row2': 20, 'Row3': 30, 'Row4': 40}\n",
    "})\n",
    "df_2 = pd.DataFrame({\n",
    "    'Col1': {'Row1': 11, 'Row2': 21, 'Row3': 31, 'Row4': 14},\n",
    "    'Col2': {'Row1': 23, 'Row2': 62, 'Row3': 29, 'Row4': 2},\n",
    "    'Col3': {'Row1': 12, 'Row2': 41, 'Row3': 16, 'Row4': 81},\n",
    "    'Col4': {'Row1': 1, 'Row2': 2, 'Row3': 3, 'Row4': 4}\n",
    "})\n",
    "print(df_1)\n",
    "print('-------------------------')\n",
    "print(df_2)"
   ]
  },
  {
   "cell_type": "code",
   "execution_count": null,
   "id": "edf57094",
   "metadata": {},
   "outputs": [],
   "source": [
    "#Adding\n",
    "df_3 = df_1.copy()\n",
    "df_4 = df_2.copy()\n",
    "print(df_3)\n",
    "print('-------------------------')\n",
    "df_3['Col5'] = [8,6,7,5]#This modifies the original data. it does not return a new df\n",
    "print(df_3)\n",
    "print('-------------------------')\n",
    "\n",
    "df_3.loc['Row5'] = [9,0,3,9,12]#This adds new row with custom label using 'loc' method. need a value for ever column\n",
    "print(df_3)\n",
    "print('-----------df_4--------------')\n",
    "\n",
    "combined = df_4.combine_first(df_3)#combine method will overwrite everying that overlaps in target df from current df and return new df.\n",
    "print(df_4)\n",
    "print('-----------df_3--------------')\n",
    "print(df_3)\n",
    "print('-----------combined--------------')\n",
    "print(combined)#this will be df_4 with the addtional column from df_3 added as 'Col5'\n",
    "\n",
    "print('-----------concat--------------')#this just appends the 2 df's together NaN for any empty spaces\n",
    "concat_df = pd.concat([df_3, df_4])\n",
    "print(concat_df)#row labels are dumplicated\n",
    "\n",
    "\n",
    "\n",
    "\n"
   ]
  },
  {
   "cell_type": "code",
   "execution_count": null,
   "id": "4f0f7f45",
   "metadata": {},
   "outputs": [],
   "source": [
    "#Removing\n",
    "df_5 = df_1.copy()\n",
    "df_6 = df_2.copy()\n",
    "\n",
    "print('-----------dropped_na--------------')\n",
    "dropped_na = df_5.dropna()#will drop any row with NaN in it\n",
    "print(dropped_na)\n",
    "\n",
    "print('-----------dropped_na--------------')\n",
    "dropped = df_6.drop(index=['Row1'], columns=['Col4'])#creates a new df after removing entire rows and/or columns\n",
    "print(dropped)\n",
    "\n",
    "print('--------df_5 afterdeleted Col3----------')\n",
    "del df_5['Col3']\n",
    "print(df_5)\n",
    "\n",
    "print('-----------popped Col1--------------')\n",
    "popped = df_5.pop('Col1')\n",
    "print(popped)\n",
    "print('-----df_5 after pop and del--------')\n",
    "print(df_5)\n"
   ]
  },
  {
   "cell_type": "code",
   "execution_count": null,
   "id": "df4a0319",
   "metadata": {},
   "outputs": [],
   "source": [
    "#Reassigning\n",
    "df_7 = df_1.copy()\n",
    "print(df_7)\n",
    "\n",
    "print('----Row1 reassigned----')\n",
    "df_7.loc['Row1'] = [44,55,66,77]\n",
    "print(df_7)\n",
    "\n",
    "print('----Col4 reassigned----')\n",
    "df_7['Col4'] = [0,0,0,0]\n",
    "print(df_7)\n",
    "\n",
    "new_df = df_7.fillna(0)#will replace all NaN with '0'\n"
   ]
  },
  {
   "cell_type": "code",
   "execution_count": 50,
   "id": "6b667ac8",
   "metadata": {},
   "outputs": [
    {
     "name": "stdout",
     "output_type": "stream",
     "text": [
      "      Col1  Col2  Col3  Col4\n",
      "Row1    11    23    12     1\n",
      "Row2    21    62    41     2\n",
      "Row3    31    29    16     3\n",
      "Row4    14     2    81     4\n",
      "----Restructured Cols----\n",
      "      Col4  Col3  Col2  Col1\n",
      "Row1     1    12    23    11\n",
      "Row2     2    41    62    21\n",
      "Row3     3    16    29    31\n",
      "Row4     4    81     2    14\n",
      "----change col labels----\n",
      "      1   2   3   4\n",
      "Row1  1  12  23  11\n",
      "Row2  2  41  62  21\n",
      "Row3  3  16  29  31\n",
      "Row4  4  81   2  14\n",
      "----Restructured Rows----\n",
      "      Col1  Col2  Col3  Col4\n",
      "Row4    14     2    81     4\n",
      "Row3    31    29    16     3\n",
      "Row2    21    62    41     2\n",
      "Row1    11    23    12     1\n",
      "----change row labels----\n",
      "   Col1  Col2  Col3  Col4\n",
      "1    14     2    81     4\n",
      "2    31    29    16     3\n",
      "3    21    62    41     2\n",
      "4    11    23    12     1\n"
     ]
    }
   ],
   "source": [
    "#Restructuring\n",
    "df_8 = df_2.copy()\n",
    "print(df_8)\n",
    "\n",
    "print('----Restructured Cols----')\n",
    "restructured_cols = df_8.reindex(columns=['Col4','Col3', 'Col2', 'Col1'])#this will shuffle the df not just relabel the column labels\n",
    "print(restructured_cols)\n",
    "\n",
    "print('----change col labels----')\n",
    "restructured_cols.columns = ['1', '2', '3', '4']\n",
    "print(restructured_cols)\n",
    "\n",
    "print('----Restructured Rows----')\n",
    "restructured_rows = df_8.reindex(index=['Row4', 'Row3', 'Row2', 'Row1'])\n",
    "print(restructured_rows)\n",
    "\n",
    "print('----change row labels----')\n",
    "restructured_rows.index = ['1', '2', '3', '4']\n",
    "print(restructured_rows)\n"
   ]
  },
  {
   "cell_type": "code",
   "execution_count": null,
   "id": "3f328d5e",
   "metadata": {},
   "outputs": [],
   "source": []
  }
 ],
 "metadata": {
  "kernelspec": {
   "display_name": ".venv",
   "language": "python",
   "name": "python3"
  },
  "language_info": {
   "codemirror_mode": {
    "name": "ipython",
    "version": 3
   },
   "file_extension": ".py",
   "mimetype": "text/x-python",
   "name": "python",
   "nbconvert_exporter": "python",
   "pygments_lexer": "ipython3",
   "version": "3.13.5"
  }
 },
 "nbformat": 4,
 "nbformat_minor": 5
}
