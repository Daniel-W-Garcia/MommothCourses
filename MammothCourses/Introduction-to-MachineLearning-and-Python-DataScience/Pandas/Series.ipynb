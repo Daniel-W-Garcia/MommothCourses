{
 "cells": [
  {
   "cell_type": "code",
   "execution_count": null,
   "id": "6d876354-f62b-4cbd-9e3a-7cae5e869fe9",
   "metadata": {},
   "outputs": [],
   "source": [
    "import pandas as pd\n",
    "import numpy as np\n",
    "\n",
    "series = pd.Series([3,6,8,0,2,5])\n",
    "print(series)"
   ]
  },
  {
   "cell_type": "code",
   "execution_count": null,
   "id": "d696d17e-7866-4a72-9640-9fcc52a08bd1",
   "metadata": {},
   "outputs": [],
   "source": [
    "mixed_dataType_series = pd.Series([1, 2, 3, True, 'Daniel']) # this creates a Series of different data types as type 'Object'\n",
    "print(mixed_dataType_series) # prints the series as 'Object'"
   ]
  },
  {
   "cell_type": "code",
   "execution_count": null,
   "id": "9228f3ca-0998-4ce8-a411-9a044e70c3a9",
   "metadata": {},
   "outputs": [],
   "source": [
    "nan_series = pd.Series([1, 2, np.nan, 4, 5, None]) # data type of float because NaN (not a number) is a float64\n",
    "print(nan_series)"
   ]
  },
  {
   "cell_type": "code",
   "execution_count": null,
   "id": "d203b02e-c072-4071-8649-ceb7b1381cff",
   "metadata": {},
   "outputs": [],
   "source": [
    "specified_dtype_series = pd.Series([1, 2, 3, 4, 5], dtype=np.float64) #inferred would be int but we specify float 64 as data type\n",
    "print(specified_dtype_series)"
   ]
  },
  {
   "cell_type": "code",
   "execution_count": null,
   "id": "eb330e42-1263-44d3-b2c2-adcd3837487b",
   "metadata": {},
   "outputs": [],
   "source": [
    "dict_series = pd.Series({'a': 10, 'b': 20, 'c': 30}) # replacing default index (0,1,2 ...etc) with custom index labels\n",
    "print(dict_series) # will print dict with 'a' as index instead of '0' for value '10'"
   ]
  },
  {
   "cell_type": "code",
   "execution_count": null,
   "id": "35bf51ba-a22b-466f-a8f7-659afe3f0ca2",
   "metadata": {},
   "outputs": [],
   "source": [
    "dict_series2 = pd.Series([60, 70, 80], index=['a', 'b', 'c']) # a different way to assign custom index labels\n",
    "print(dict_series2)"
   ]
  },
  {
   "cell_type": "code",
   "execution_count": null,
   "id": "a068f98b-b0c8-435e-8e66-e975354570ff",
   "metadata": {},
   "outputs": [],
   "source": [
    "same_value_all_index = pd.Series(10, index=['a', 'b', 'c'])\n",
    "print(same_value_all_index)"
   ]
  },
  {
   "cell_type": "code",
   "execution_count": null,
   "id": "913b0207-fdbb-4a93-a7eb-2c443906b060",
   "metadata": {},
   "outputs": [],
   "source": []
  }
 ],
 "metadata": {
  "kernelspec": {
   "display_name": "Python 3",
   "language": "python",
   "name": "python3"
  },
  "language_info": {
   "codemirror_mode": {
    "name": "ipython",
    "version": 3
   },
   "file_extension": ".py",
   "mimetype": "text/x-python",
   "name": "python",
   "nbconvert_exporter": "python",
   "pygments_lexer": "ipython3",
   "version": "3.13.5"
  }
 },
 "nbformat": 4,
 "nbformat_minor": 5
}
