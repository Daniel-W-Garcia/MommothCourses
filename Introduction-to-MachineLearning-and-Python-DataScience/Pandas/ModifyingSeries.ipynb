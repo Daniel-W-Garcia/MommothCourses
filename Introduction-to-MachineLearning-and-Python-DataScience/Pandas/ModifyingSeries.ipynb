{
 "cells": [
  {
   "cell_type": "code",
   "execution_count": null,
   "id": "6e0537ec",
   "metadata": {},
   "outputs": [],
   "source": [
    "import pandas as pd"
   ]
  },
  {
   "cell_type": "code",
   "execution_count": null,
   "id": "0781d10f",
   "metadata": {},
   "outputs": [],
   "source": [
    "series_from_dict = pd.Series({'a': 10, 'b': 20, 'c': 30, 'd': 40, 'e': 50, 'f': 60, 'g': 70, 'h': 80, 'i': 90, 'j': 100}) \n",
    "print(series_from_dict)\n",
    "#assigning custom labels as index"
   ]
  },
  {
   "cell_type": "code",
   "execution_count": null,
   "id": "75e0e5b8",
   "metadata": {},
   "outputs": [],
   "source": [
    "#Adding items to the dict:\n",
    "series_from_dict['k'] = 110\n",
    "print(series_from_dict)\n",
    "# creates a new item with kvp of 'k': 110"
   ]
  },
  {
   "cell_type": "code",
   "execution_count": null,
   "id": "ed7dc752",
   "metadata": {},
   "outputs": [],
   "source": [
    "#Adding a series to another series\n",
    "series_to_add = pd.Series({'l': 120, 'm': 130, 'n': 140, }) # new series we want to add\n",
    "combined_series = pd.concat([series_from_dict, series_to_add]) #combines the two series\n",
    "print(combined_series)"
   ]
  },
  {
   "cell_type": "code",
   "execution_count": null,
   "id": "75a5b074",
   "metadata": {},
   "outputs": [],
   "source": [
    "#Removing items from series\n",
    "example_series1 = pd.Series({'A': 11, 'B': 22, 'C': 33})\n",
    "print(f\"series before removal\\n{example_series1}\")\n",
    "\n",
    "del example_series1['B'] # this deletes a single kvp. n: 140\n",
    "print(f\"series after removal:\\n{example_series1}\")\n"
   ]
  },
  {
   "cell_type": "code",
   "execution_count": null,
   "id": "f1aaf569",
   "metadata": {},
   "outputs": [],
   "source": [
    "#Removing items continued\n",
    "example_series2 = pd.Series({'1': 1, '2': 2, '3': 3, '4': 4})\n",
    "print(f\"Series before drop:\\n{example_series2}\")\n",
    "\n",
    "example_series2 = example_series2.drop(['1']) #drop method will not modify original so a new series must be save. can also use 'inplace=True' to overrite original as well\n",
    "print(f\"Series after drop:\\n{example_series2}\")\n",
    "\n",
    "example_series2.drop(['2'], inplace=True )#drop method using inplace = True\n",
    "print(f\"Series after drop second pass:\\n{example_series2}\")\n",
    "\n",
    "popped_series = example_series2.pop('3')#using 'pop' method to remove a kvp from one series and create a new series from that kvp\n",
    "print(f\"This is the Series after we pop\\n{example_series2}\")\n",
    "\n",
    "print(f\"This is the series we created with the pop method:\\n{popped_series}\")\n"
   ]
  },
  {
   "cell_type": "code",
   "execution_count": null,
   "id": "c0e9f9b5",
   "metadata": {},
   "outputs": [],
   "source": [
    "#Modifying series and items\n",
    "starting_series = pd.Series({})"
   ]
  }
 ],
 "metadata": {
  "kernelspec": {
   "display_name": "Python 3",
   "language": "python",
   "name": "python3"
  },
  "language_info": {
   "codemirror_mode": {
    "name": "ipython",
    "version": 3
   },
   "file_extension": ".py",
   "mimetype": "text/x-python",
   "name": "python",
   "nbconvert_exporter": "python",
   "pygments_lexer": "ipython3",
   "version": "3.13.5"
  }
 },
 "nbformat": 4,
 "nbformat_minor": 5
}
