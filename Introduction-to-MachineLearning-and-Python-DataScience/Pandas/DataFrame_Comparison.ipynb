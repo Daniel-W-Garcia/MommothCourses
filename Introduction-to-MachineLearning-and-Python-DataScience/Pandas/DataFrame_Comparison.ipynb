{
 "cells": [
  {
   "cell_type": "code",
   "execution_count": null,
   "id": "63003a1c",
   "metadata": {},
   "outputs": [],
   "source": [
    "import pandas as pd\n",
    "import numpy as np"
   ]
  },
  {
   "cell_type": "code",
   "execution_count": null,
   "id": "2c6246fb",
   "metadata": {},
   "outputs": [],
   "source": [
    "df = pd.DataFrame({\n",
    "    'Col1': {'Row1': 4, 'Row2': 5, 'Row3': 9, 'Row4': 1},\n",
    "    'Col2': {'Row1': 45, 'Row2': 33, 'Row3': 3, 'Row4': 15 },\n",
    "    'Col3': {'Row1': 81, 'Row2': 12, 'Row3': 14, 'Row4': 21},\n",
    "    'Col4': {'Row1': 21, 'Row2': 3, 'Row3': 32, 'Row4': 33}\n",
    "})\n",
    "\n",
    "df2 = pd.DataFrame({\n",
    "    'Col1': {'Row1': 14, 'Row2': 35, 'Row3': 19, 'Row4': 71},\n",
    "    'Col2': {'Row1': 5, 'Row2': 43, 'Row3': 31, 'Row4': 65 },\n",
    "    'Col3': {'Row1': 1, 'Row2': 2, 'Row3': 4, 'Row4': 26},\n",
    "    'Col4': {'Row1': 2, 'Row2': 13, 'Row3': 2, 'Row4': 3}\n",
    "})\n",
    "\n",
    "\n",
    "print(df)\n",
    "print()\n",
    "print(df2)"
   ]
  },
  {
   "cell_type": "code",
   "execution_count": null,
   "id": "380e68e5",
   "metadata": {},
   "outputs": [],
   "source": [
    "#Comparisons\n",
    "df_1 = df.copy()\n",
    "df_2 = df2.copy()\n",
    "\n",
    "greater_than = df_1 > df_2#will compare each df value against comparison df at correspoinding location\n",
    "print(greater_than)\n",
    "\n",
    "print('------Using Method-----')\n",
    "less_than = df_1.lt(df_2)#using 'lt' for less than is same as using operator '<'\n",
    "print(less_than)\n",
    "\n",
    "print('------Compare Columns-----')\n",
    "col_compare = df_1['Col1'] > df_2['Col1']#using operator to compare colums\n",
    "print(col_compare)\n",
    "\n",
    "print('------Compare Rows-----')\n",
    "row_compare = df_1.loc['Row1'].gt(df_2.loc['Row1'])#using method to compare rows\n",
    "print(row_compare)\n",
    "\n"
   ]
  },
  {
   "cell_type": "code",
   "execution_count": null,
   "id": "888c6b20",
   "metadata": {},
   "outputs": [],
   "source": [
    "#Iteration\n",
    "df_3 = df.copy()\n",
    "df_4 = df2.copy()\n",
    "\n",
    "for col in df_3:#this gets only the label for each col\n",
    "    print(col)\n",
    "\n",
    "for row in df_3.index: #index has to be specified when iterating through rows\n",
    "    print(row)\n",
    "\n",
    "print('-----Iterate Cols-----')\n",
    "for col_name, row_value in df_3.items():#items will iterate through the rows and reaturn each item in that row before moving toe the next\n",
    "    print(col_name)\n",
    "    print(row_value)\n",
    "\n",
    "print('-----Iterate Rows-----')\n",
    "for row_name, col_value in df_3.iterrows():#iterrows is the method to use when going one row at a time and grabbing ever col value in that row\n",
    "    print(row_name)\n",
    "    print(col_value)"
   ]
  },
  {
   "cell_type": "code",
   "execution_count": null,
   "id": "9f05531e",
   "metadata": {},
   "outputs": [],
   "source": []
  }
 ],
 "metadata": {
  "kernelspec": {
   "display_name": ".venv",
   "language": "python",
   "name": "python3"
  },
  "language_info": {
   "codemirror_mode": {
    "name": "ipython",
    "version": 3
   },
   "file_extension": ".py",
   "mimetype": "text/x-python",
   "name": "python",
   "nbconvert_exporter": "python",
   "pygments_lexer": "ipython3",
   "version": "3.13.5"
  }
 },
 "nbformat": 4,
 "nbformat_minor": 5
}
