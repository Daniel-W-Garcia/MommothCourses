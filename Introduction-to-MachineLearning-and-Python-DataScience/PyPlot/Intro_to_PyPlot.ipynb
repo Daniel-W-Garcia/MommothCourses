{
 "cells": [
  {
   "cell_type": "code",
   "execution_count": null,
   "id": "d48820ad",
   "metadata": {},
   "outputs": [],
   "source": [
    "import pandas as pd\n",
    "import numpy as np\n",
    "from matplotlib import pyplot as plt\n",
    "import random\n"
   ]
  },
  {
   "cell_type": "code",
   "execution_count": null,
   "id": "4391f9cf",
   "metadata": {},
   "outputs": [],
   "source": [
    "#Create Data\n",
    "x = [i for i in range(1,101)]# this shorthand and creates a list with all values in the range\n",
    "y = []\n",
    "for i in range(100):# this method is the long version of the above. since we're needing random ints we have to define\n",
    "    y.append(random.randint(1,101))#randint needs a range to pick from\n",
    "\n",
    "plt.plot(x,y)\n",
    "plt.show()"
   ]
  },
  {
   "cell_type": "code",
   "execution_count": null,
   "id": "f7d2e867",
   "metadata": {},
   "outputs": [],
   "source": [
    "#Using Numpy\n",
    "np_x = np.arange(1,101)\n",
    "np_y = np.random.randint(1, 101, size=100)\n",
    "\n",
    "plt.plot(np_x, np_y)\n",
    "plt.show()\n"
   ]
  },
  {
   "cell_type": "code",
   "execution_count": null,
   "id": "a861d595",
   "metadata": {},
   "outputs": [],
   "source": [
    "#Scatter Plot\n",
    "plt.scatter(np_x, np_y)\n",
    "plt.show()"
   ]
  }
 ],
 "metadata": {
  "kernelspec": {
   "display_name": ".venv",
   "language": "python",
   "name": "python3"
  },
  "language_info": {
   "codemirror_mode": {
    "name": "ipython",
    "version": 3
   },
   "file_extension": ".py",
   "mimetype": "text/x-python",
   "name": "python",
   "nbconvert_exporter": "python",
   "pygments_lexer": "ipython3",
   "version": "3.13.5"
  }
 },
 "nbformat": 4,
 "nbformat_minor": 5
}
