{
 "cells": [
  {
   "cell_type": "code",
   "execution_count": null,
   "id": "1eb7912d",
   "metadata": {},
   "outputs": [],
   "source": [
    "import pandas as pd\n",
    "import numpy as np"
   ]
  },
  {
   "cell_type": "code",
   "execution_count": null,
   "id": "8acf08fe",
   "metadata": {},
   "outputs": [],
   "source": [
    "df = pd.DataFrame([1,2,3])#data frames are rows AND columns. Each value in this case will be in its own row\n",
    "print(df)#this will look confusing at first, but it's labels for rows (this is the far-left column) and columns (the single '0' at the top)\n",
    "\n",
    "df = pd.DataFrame([1,2,3], dtype=np.float16) #can define the type of data\n",
    "print(df)\n",
    "\n",
    "df_2 = pd.DataFrame(['Tim', 'John', 'Steve'])\n",
    "print(df_2)"
   ]
  },
  {
   "cell_type": "code",
   "execution_count": null,
   "id": "4eb2e749",
   "metadata": {},
   "outputs": [],
   "source": [
    "multi_dimension_df = pd.DataFrame([[1,2,3], [4,5,6], [7,8,9]])#[row 0], [row 1], [row 2]\n",
    "print(multi_dimension_df)\n",
    "print()\n",
    "\n",
    "non_square_df = pd.DataFrame([[1,2,3,4], [5,6], [7], [8,9,0]])#df will have as many cols as largest row needs. inputs with fewer values with have 'nan' (float data type) in empty spaces\n",
    "print(non_square_df)"
   ]
  },
  {
   "cell_type": "code",
   "execution_count": null,
   "id": "7aef1da7",
   "metadata": {},
   "outputs": [],
   "source": [
    "df_5s = pd.DataFrame(5, index=[0,1], columns=[0,1,2])#creating df size/shape of 2x3 and assigning 5 for every value\n",
    "print(df_5s)\n",
    "\n",
    "print()\n",
    "\n",
    "df_custom_labels = pd.DataFrame(5, index=['A', 'B'], columns=['col1', 'col2', 'col3'] )\n",
    "print(df_custom_labels)\n",
    "\n",
    "print()\n",
    "\n",
    "df_list_of_lists = pd.DataFrame([[1,2], [3,4], [5,6]], columns=['a', 'b'])#[row 1], [row 2], [row 3] with custom col labels\n",
    "print(df_list_of_lists)\n"
   ]
  },
  {
   "cell_type": "code",
   "execution_count": null,
   "id": "b77df2ea",
   "metadata": {},
   "outputs": [],
   "source": [
    "#creating dataframes from Dictionaries:\n",
    "dict_df = pd.DataFrame({'col_1': [1,2,3]}) #assigns a label for a single col and values for each row\n",
    "print(dict_df)\n",
    "\n",
    "print()\n",
    "\n",
    "dict_df_2 = pd.DataFrame({'col_1': [1,2,3], 'col2': [4,5,6]}, index=['row1', 'row2', 'row3' ])# columns with specified values per row\n",
    "print(dict_df_2)\n",
    "\n",
    "#key take-a-way is when a df is created from list, or list of lists you are specifying values in the row (across the columns)\n",
    "#and when you create a df from a dictionary, you are specifying values in columns (down each row)\n",
    "\n",
    "dict_df_3 = pd.DataFrame({ #automatically constructs a pd.Series\n",
    "    'col1': {'row1':1, 'row2':2, 'row3':3}, \n",
    "    'col2': {'row1':4, 'row2':5, 'row3': 6}\n",
    "    })\n",
    "print(dict_df_3)"
   ]
  },
  {
   "cell_type": "code",
   "execution_count": null,
   "id": "56bba1be",
   "metadata": {},
   "outputs": [
    {
     "name": "stdout",
     "output_type": "stream",
     "text": [
      "   col1  col2\n",
      "0     1     4\n",
      "1     2     5\n",
      "2     3     6\n",
      "\n",
      "   col1  col2\n",
      "A     1     4\n",
      "B     2     5\n",
      "C     3     6\n",
      "\n",
      "   col1  col2\n",
      "A   1.0   NaN\n",
      "B   2.0   NaN\n",
      "C   3.0   NaN\n",
      "0   NaN   4.0\n",
      "1   NaN   5.0\n",
      "2   NaN   6.0\n"
     ]
    }
   ],
   "source": [
    "#Create DataFrame from Series:\n",
    "\n",
    "df_plain = pd.DataFrame({'col1': pd.Series([1,2,3]), 'col2': pd.Series([4,5,6])})\n",
    "print(df_plain)\n",
    "\n",
    "print()\n",
    "\n",
    "df_series = pd.DataFrame({\n",
    "    'col1': pd.Series({'A': 1, 'B': 2, 'C': 3}), #using dictionaries in Series is identical to just using dictionaries. So using 'Series' here is redundant\n",
    "    'col2': pd.Series({'A': 4, 'B': 5, 'C': 6})\n",
    "    })\n",
    "print(df_series)\n",
    "\n",
    "print()\n",
    "\n",
    "df_series_2 = pd.DataFrame({\n",
    "    'col1': pd.Series({'A': 1, 'B': 2, 'C': 3}), \n",
    "    'col2': pd.Series([4, 5, 6 ])#it will not infer that the row labels are the same. instead it will create 3 more rows with default labels\n",
    "    })\n",
    "print(df_series_2)"
   ]
  },
  {
   "cell_type": "code",
   "execution_count": null,
   "id": "8035d652",
   "metadata": {},
   "outputs": [],
   "source": []
  }
 ],
 "metadata": {
  "kernelspec": {
   "display_name": "Python 3",
   "language": "python",
   "name": "python3"
  },
  "language_info": {
   "codemirror_mode": {
    "name": "ipython",
    "version": 3
   },
   "file_extension": ".py",
   "mimetype": "text/x-python",
   "name": "python",
   "nbconvert_exporter": "python",
   "pygments_lexer": "ipython3",
   "version": "3.13.5"
  }
 },
 "nbformat": 4,
 "nbformat_minor": 5
}
