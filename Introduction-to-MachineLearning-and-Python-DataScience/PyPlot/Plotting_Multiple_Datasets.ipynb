{
 "cells": [
  {
   "cell_type": "code",
   "execution_count": null,
   "id": "a1d3ee7c",
   "metadata": {},
   "outputs": [],
   "source": [
    "import os\n",
    "import random\n",
    "import pandas as pd\n",
    "import numpy as np\n",
    "from matplotlib import pyplot as plt"
   ]
  },
  {
   "cell_type": "code",
   "execution_count": null,
   "id": "335d9777",
   "metadata": {},
   "outputs": [],
   "source": [
    "#Create Data\n",
    "x = [i for i in range(1,101)]\n",
    "y = []\n",
    "for i in range(100):\n",
    "    y.append(random.randint(1,101))\n",
    "\n",
    "np_x = np.arange(1,101)\n",
    "np_y = np.random.randint(1, 101, size=100)\n"
   ]
  },
  {
   "cell_type": "code",
   "execution_count": null,
   "id": "2e267f3d",
   "metadata": {},
   "outputs": [],
   "source": [
    "#Create Graphs\n",
    "plt.plot(x,y, 'r', np_x, np_y, 'b')\n",
    "plt.xlabel('This is the X Label')\n",
    "plt.ylabel('This is the Y Label')\n",
    "plt.show()"
   ]
  },
  {
   "cell_type": "code",
   "execution_count": null,
   "id": "4ad5ba54",
   "metadata": {},
   "outputs": [],
   "source": [
    "#Create Subplots\n",
    "plt.subplot(2,1,1)#row, col, index (Which Graph)\n",
    "plt.title('Graph 1')\n",
    "plt.xlabel('This is X Label')\n",
    "plt.ylabel('This is Y Label')\n",
    "plt.plot(x,y, 'b')\n",
    "plt.subplot(2,1,2)#row, col, index\n",
    "plt.title('Graph 2')\n",
    "plt.xlabel('This is X Label')\n",
    "plt.ylabel('This is Y Label')\n",
    "plt.plot(np_x,np_y, 'm')\n",
    "plt.suptitle('All Graphs')\n",
    "plt.show()"
   ]
  }
 ],
 "metadata": {
  "kernelspec": {
   "display_name": ".venv",
   "language": "python",
   "name": "python3"
  },
  "language_info": {
   "codemirror_mode": {
    "name": "ipython",
    "version": 3
   },
   "file_extension": ".py",
   "mimetype": "text/x-python",
   "name": "python",
   "nbconvert_exporter": "python",
   "pygments_lexer": "ipython3",
   "version": "3.13.5"
  }
 },
 "nbformat": 4,
 "nbformat_minor": 5
}
