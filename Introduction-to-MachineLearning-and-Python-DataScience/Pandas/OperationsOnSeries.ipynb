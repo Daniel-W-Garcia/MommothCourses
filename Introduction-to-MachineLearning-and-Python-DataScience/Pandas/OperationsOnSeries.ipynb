{
 "cells": [
  {
   "cell_type": "code",
   "execution_count": null,
   "id": "fa8826bb",
   "metadata": {},
   "outputs": [],
   "source": [
    "import pandas as pd\n",
    "import numpy as np"
   ]
  },
  {
   "cell_type": "code",
   "execution_count": null,
   "id": "aea0e2b8",
   "metadata": {},
   "outputs": [],
   "source": [
    "#Comparison\n",
    "series_1 = pd.Series([1,2,3,4,5, np.nan])\n",
    "series_2 = pd.Series([2,1,4,3,np.nan, 5])\n",
    "\n",
    "result = series_1 > series_2 #compares values at each series corresponding index\n",
    "print(result)\n",
    "\n",
    "result_2 = series_1.eq(series_2)#'eq' is pandas version of '==' works the same\n",
    "print(result_2)#bool value for every elemnt compared in the series\n",
    "\n",
    "result_3 = series_1.equals(series_2)#'equals will compare entire series against comparison entire series\n",
    "print(result_3)# only 1 bool value\n",
    "\n"
   ]
  },
  {
   "cell_type": "code",
   "execution_count": null,
   "id": "a9b257df",
   "metadata": {},
   "outputs": [],
   "source": [
    "#Comparison continued\n",
    "series_1 = pd.Series([1,2,3,4,5, np.nan])\n",
    "series_2 = pd.Series([2,1,4,3,np.nan, 5])\n",
    "\n",
    "compare_individually = series_1[0] == series_2[1]# comparing specific, individual values\n",
    "print(compare_individually)\n",
    "\n",
    "series_vs_single_digit = series_1 > 5#compare entire series vs single value\n",
    "print(series_vs_single_digit)\n",
    "\n",
    "series_vs_single_value = series_1 > series_2[0]#compare entire series vs single value in another series\n",
    "print(series_vs_single_value)\n"
   ]
  },
  {
   "cell_type": "code",
   "execution_count": null,
   "id": "eee0ad0a",
   "metadata": {},
   "outputs": [],
   "source": [
    "#Iteration\n",
    "series_1 = pd.Series([1,2,3,4,5, np.nan])\n",
    "series_2 = pd.Series([2,1,4,3,np.nan, 5])\n",
    "\n",
    "is_in = 4 in series_1 #is 4 a value inside series_1\n",
    "print(f\"{is_in}\\n\")\n",
    "\n",
    "for key, value in series_1.items(): #items method returns an iterable tuple of the key, value in the series\n",
    "    print(f\"this is the key in the series: {key}\")\n",
    "    print(f\"Corresponding value in the series {value}\")\n",
    "\n",
    "print()\n",
    "\n",
    "for value in series_2: #this will return just values (foreach in C#)\n",
    "    print(value)"
   ]
  },
  {
   "cell_type": "code",
   "execution_count": null,
   "id": "8e9646df",
   "metadata": {},
   "outputs": [],
   "source": []
  }
 ],
 "metadata": {
  "kernelspec": {
   "display_name": "Python 3",
   "language": "python",
   "name": "python3"
  },
  "language_info": {
   "codemirror_mode": {
    "name": "ipython",
    "version": 3
   },
   "file_extension": ".py",
   "mimetype": "text/x-python",
   "name": "python",
   "nbconvert_exporter": "python",
   "pygments_lexer": "ipython3",
   "version": "3.13.5"
  }
 },
 "nbformat": 4,
 "nbformat_minor": 5
}
