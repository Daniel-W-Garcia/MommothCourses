{
 "cells": [
  {
   "cell_type": "code",
   "execution_count": null,
   "id": "b0c66f90",
   "metadata": {},
   "outputs": [],
   "source": [
    "import pandas as pd\n",
    "import numpy as np"
   ]
  },
  {
   "cell_type": "code",
   "execution_count": null,
   "id": "3cb7d09a",
   "metadata": {},
   "outputs": [],
   "source": [
    "#Initial DataFrame\n",
    "df = pd.DataFrame({\n",
    "    'Col1': {'Row1': 5, 'Row2': 6, 'Row3': 9, 'Row4': 2},\n",
    "    'Col2': {'Row1': 51, 'Row2': 16, 'Row3': 29, 'Row4': 12},\n",
    "    'Col3': {'Row1': 13, 'Row2': 21, 'Row3': 88, 'Row4': 25},\n",
    "    'Col4': {'Row1': 16, 'Row2': 62, 'Row3': 35, 'Row4': 38}\n",
    "})"
   ]
  },
  {
   "cell_type": "code",
   "execution_count": null,
   "id": "bb8ed95c",
   "metadata": {},
   "outputs": [],
   "source": [
    "#Basic Arithmatic\n",
    "df_1 = df.copy()\n",
    "print(df_1)\n",
    "\n",
    "print('----Add 5----')\n",
    "plus_5 = df_1 + 5 #adds 5 to every value in the df\n",
    "print(plus_5)\n",
    "\n",
    "print('----Squared----')\n",
    "squared_df = df_1 ** 2 #the '**' is the syntax for 'power of' so ** 3 would be cubed and so on\n",
    "print(squared_df)\n",
    "\n",
    "print('----Add 5 with method----')\n",
    "add_5 = df_1.add(5)#using the method provides more functionality with the given overloads\n",
    "print(add_5)\n"
   ]
  },
  {
   "cell_type": "code",
   "execution_count": null,
   "id": "82cbd34e",
   "metadata": {},
   "outputs": [],
   "source": [
    "#Applying Functions\n",
    "df_2 = df.copy()\n",
    "print(df_2)\n",
    "\n",
    "def slope_function(x):#funciton for slopy (y = mx + b)\n",
    "    return (2*x) + 5\n",
    "\n",
    "print('-----Custom Function Applied-----')\n",
    "result = df_2.apply(slope_function)#Function is ran on every value in the DataFrame\n",
    "print(result)\n",
    "\n",
    "print('-----Transform Function Applied-----')\n",
    "df_transform = df_2.transform(np.square)#using transform provides more flexibility. can call numpy functions from inside transform\n",
    "print(df_transform)\n",
    "\n",
    "print('-----Lambda Function Applied-----')\n",
    "lambda_function = df_2.transform(lambda x: x**2)#Lambdas are anon functions. no name, 'x' is the input and everything after : is what happens with that input\n",
    "print(lambda_function)\n",
    "\n",
    "print('-----List of Functions Applied-----')\n",
    "df_functions_list = df_2.transform([np.log, np.square])#np.log is the 'natural log'(e) not base 10. log(e) = x\n",
    "print(df_functions_list)# this returns a new df with both function ran seperately and returned for each column (see results)\n",
    "\n",
    "print('-----List of Functions Applied-----')\n",
    "df_functions_list2 = df_2.transform({'Col1': np.square, 'Col2': np.log})#runs functions on specific cols. returns df of only the specified cols\n",
    "print(df_functions_list2)\n"
   ]
  },
  {
   "cell_type": "code",
   "execution_count": null,
   "id": "1465d2ff",
   "metadata": {},
   "outputs": [],
   "source": [
    "#Transpose\n",
    "df_3 = df.copy()\n",
    "print(df_3)\n",
    "\n",
    "print('-----Transposed-----')\n",
    "transposed = df_3.transpose()#flips rows with columns but doesn't move data with it. only the names of the labels\n",
    "print(transposed)\n",
    "\n",
    "#Type Casting\n",
    "print('-----Casted-----')\n",
    "df_astype = df_3.astype('float16')#casted ints to float16\n",
    "print(df_astype)\n",
    "\n",
    "#Sort\n",
    "print('-----Sorted Index-----')\n",
    "df_sorted = df_3.sort_index(axis=1, ascending=False)#this will sort entire rows/cols but their label value but keep row intergrity\n",
    "print(df_sorted)\n",
    "\n",
    "print('-----Sorted Value-----')\n",
    "df_sorted_value = df_3.sort_values('Col1', axis=0, ascending=False)#can sort by specified row or column\n",
    "print(df_sorted_value)\n"
   ]
  }
 ],
 "metadata": {
  "kernelspec": {
   "display_name": ".venv",
   "language": "python",
   "name": "python3"
  },
  "language_info": {
   "codemirror_mode": {
    "name": "ipython",
    "version": 3
   },
   "file_extension": ".py",
   "mimetype": "text/x-python",
   "name": "python",
   "nbconvert_exporter": "python",
   "pygments_lexer": "ipython3",
   "version": "3.13.5"
  }
 },
 "nbformat": 4,
 "nbformat_minor": 5
}
