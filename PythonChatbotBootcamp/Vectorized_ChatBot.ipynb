﻿{
 "cells": [
  {
   "metadata": {
    "ExecuteTime": {
     "end_time": "2025-08-06T22:31:43.087328Z",
     "start_time": "2025-08-06T22:31:43.085164Z"
    }
   },
   "cell_type": "code",
   "source": [
    "import pandas as pd\n",
    "import numpy as np\n",
    "from sklearn.feature_extraction.text import TfidfVectorizer\n",
    "from sklearn.metrics.pairwise import cosine_similarity\n"
   ],
   "id": "78dbb750fe02bc3b",
   "outputs": [],
   "execution_count": 30
  },
  {
   "metadata": {
    "collapsed": true,
    "ExecuteTime": {
     "end_time": "2025-08-06T22:31:43.148454Z",
     "start_time": "2025-08-06T22:31:43.144085Z"
    }
   },
   "cell_type": "code",
   "source": [
    "#Creating DataFrame from CSV\n",
    "file_path = \"data/faq.csv\"#creates a string to hold the file path\n",
    "print(type(file_path)) # confirming var file_path is a str\n",
    "\n",
    "df = pd.read_csv(file_path, header=0, )#requires a string\n",
    "\n",
    "df.dropna(inplace=True)"
   ],
   "id": "3c53bbd045bb38bc",
   "outputs": [
    {
     "name": "stdout",
     "output_type": "stream",
     "text": [
      "<class 'str'>\n"
     ]
    }
   ],
   "execution_count": 31
  },
  {
   "metadata": {
    "ExecuteTime": {
     "end_time": "2025-08-06T22:31:43.198287Z",
     "start_time": "2025-08-06T22:31:43.192550Z"
    }
   },
   "cell_type": "code",
   "source": [
    "vectorizer = TfidfVectorizer()#wizardry that is able to 'Convert a collection of raw documents to a matrix of TF-IDF features.'\n",
    "vectorizer.fit(np.concatenate((df.Question, df.Answer)))#\n",
    "\n",
    "vectorized_questions = vectorizer.transform(df.Question)#vectorizing the questions from faq\n",
    "vectorized_answers = vectorizer.transform(df.Answer)#vectorizing the answers from faq\n"
   ],
   "id": "883ddcd8c5037733",
   "outputs": [],
   "execution_count": 32
  },
  {
   "metadata": {
    "ExecuteTime": {
     "end_time": "2025-08-06T22:32:33.128557Z",
     "start_time": "2025-08-06T22:32:25.179440Z"
    }
   },
   "cell_type": "code",
   "source": [
    "while True:\n",
    "    question = input()\n",
    "    vectorized_user_question = vectorizer.transform([question])#vectorizing the user question\n",
    "    similarities = cosine_similarity(vectorized_user_question, vectorized_questions)\n",
    "    closest_question = np.argmax(similarities, axis=1)# gets the highest match from vectorized data.\n",
    "    print(df.iloc[closest_question][\"Question\"])\n",
    "    answer = df.Answer.iloc[closest_question].values[0]\n",
    "    print(answer)\n",
    "    break\n",
    "\n"
   ],
   "id": "c2590e1c88ccfe59",
   "outputs": [
    {
     "name": "stdout",
     "output_type": "stream",
     "text": [
      "5    What kind of professional experience does he h...\n",
      "Name: Question, dtype: object\n",
      "He has 20+ years in the U.S. Army and recently served as a Project Manager at the National Security Agency (NSA), where he designed and deployed internal web tools, managed secure access for over 1,100 personnel, and supported mission-critical systems.\n"
     ]
    }
   ],
   "execution_count": 34
  }
 ],
 "metadata": {
  "kernelspec": {
   "display_name": "Python 3",
   "language": "python",
   "name": "python3"
  },
  "language_info": {
   "codemirror_mode": {
    "name": "ipython",
    "version": 2
   },
   "file_extension": ".py",
   "mimetype": "text/x-python",
   "name": "python",
   "nbconvert_exporter": "python",
   "pygments_lexer": "ipython2",
   "version": "2.7.6"
  }
 },
 "nbformat": 4,
 "nbformat_minor": 5
}
