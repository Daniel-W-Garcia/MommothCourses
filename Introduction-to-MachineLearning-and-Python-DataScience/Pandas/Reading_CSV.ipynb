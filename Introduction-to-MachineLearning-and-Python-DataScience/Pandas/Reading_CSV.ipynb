{
 "cells": [
  {
   "cell_type": "code",
   "execution_count": null,
   "id": "6ef8241d",
   "metadata": {},
   "outputs": [],
   "source": [
    "import os\n",
    "import pandas as pd\n",
    "import numpy as np\n",
    "import io"
   ]
  },
  {
   "cell_type": "code",
   "execution_count": null,
   "id": "883ea258",
   "metadata": {},
   "outputs": [],
   "source": [
    "#Creating DataFrame from CSV\n",
    "file_path = \"PandasSample.csv\" #creates a string to hold the file path\n",
    "print(type(file_path)) # confirming var file_path is a str\n",
    "\n",
    "df = pd.read_csv(file_path, header=0, )#requires a string\n",
    "\n",
    "print(df)\n"
   ]
  },
  {
   "cell_type": "code",
   "execution_count": null,
   "id": "e243b186",
   "metadata": {},
   "outputs": [],
   "source": [
    "#Basic DF Info\n",
    "description_info = df.describe()\n",
    "print(description_info)\n",
    "avg_game_length = df[' \"Game Length\"'].mean()\n",
    "print(avg_game_length)\n",
    "\n",
    "df_indexed = df.set_index('Game Number')#changing the index to 'Game Number'\n",
    "print(df_indexed)\n",
    "\n",
    "game_length_500 = df_indexed.loc[1]#grabbing game length at specified Game Number\n",
    "print(game_length_500)"
   ]
  },
  {
   "cell_type": "code",
   "execution_count": null,
   "id": "fb0c7741",
   "metadata": {},
   "outputs": [],
   "source": [
    "#Histogram of Game Lengths\n",
    "df_1 = df.copy()\n",
    "histogram = df_1[' \"Game Length\"'].hist()"
   ]
  },
  {
   "cell_type": "code",
   "execution_count": null,
   "id": "90723470",
   "metadata": {},
   "outputs": [
    {
     "name": "stdout",
     "output_type": "stream",
     "text": [
      "Average game length for games over 35minis: 79.41\n",
      "Total of games over 35min is: 149\n"
     ]
    }
   ],
   "source": [
    "#Functions on DF\n",
    "df_2 = df.copy()\n",
    "\n",
    "def games_over_time(df, target_length):\n",
    "    filtered_rows = df[df[' \"Game Length\"'] > target_length]\n",
    "    return filtered_rows        \n",
    "\n",
    "total_over_35 = games_over_time(df_2, 55)\n",
    "\n",
    "avg_time = total_over_35[' \"Game Length\"'].mean()\n",
    "total_games = total_over_35[' \"Game Length\"'].count()\n",
    "\n",
    "print(f\"Average game length for games over 35minis:{avg_time: .2f}\")#this is how to format floats to 2 decimal places\n",
    "print(f\"Total of games over 35min is:{total_games: .0f}\")\n",
    "\n"
   ]
  },
  {
   "cell_type": "code",
   "execution_count": null,
   "id": "e59ad41a",
   "metadata": {},
   "outputs": [],
   "source": []
  }
 ],
 "metadata": {
  "kernelspec": {
   "display_name": ".venv",
   "language": "python",
   "name": "python3"
  },
  "language_info": {
   "codemirror_mode": {
    "name": "ipython",
    "version": 3
   },
   "file_extension": ".py",
   "mimetype": "text/x-python",
   "name": "python",
   "nbconvert_exporter": "python",
   "pygments_lexer": "ipython3",
   "version": "3.13.5"
  }
 },
 "nbformat": 4,
 "nbformat_minor": 5
}
