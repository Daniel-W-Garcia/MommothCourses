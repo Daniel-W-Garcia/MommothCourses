{
 "cells": [
  {
   "cell_type": "code",
   "execution_count": null,
   "id": "0ae73a0a",
   "metadata": {},
   "outputs": [],
   "source": [
    "import pandas as pd\n",
    "import numpy as np"
   ]
  },
  {
   "cell_type": "code",
   "execution_count": null,
   "id": "eea8b71b",
   "metadata": {},
   "outputs": [],
   "source": [
    "df = pd.DataFrame({\n",
    "    'Col1': {'Row1': 1, 'Row2': 2, 'Row3': 3, 'Row4': 4},\n",
    "    'Col2': {'Row1': 5, 'Row2': 6, 'Row3': 7, 'Row4': 8},\n",
    "    'Col3': {'Row1': 10, 'Row2': 20, 'Row3': 30, 'Row4': 40},\n",
    "    'Col4': {'Row1': 11, 'Row2': 22, 'Row3': 33, 'Row4': 44}\n",
    "})\n",
    "print(df)"
   ]
  },
  {
   "cell_type": "code",
   "execution_count": null,
   "id": "6b01d434",
   "metadata": {},
   "outputs": [],
   "source": [
    "#Basic properties\n",
    "df1 = pd.DataFrame({\n",
    "    'Col1': {'Row1': 1, 'Row2': 2, 'Row3': 3, 'Row4': 4},\n",
    "    'Col2': {'Row1': 50, 'Row2': 90, 'Row3': 70, 'Row4': 80},\n",
    "    'Col3': {'Row1': 110, 'Row2': 20, 'Row3': 75, 'Row4': 40},\n",
    "    'Col4': {'Row1': 11, 'Row2': 22, 'Row3': 33, 'Row4': 44}\n",
    "})\n",
    "\n",
    "count = df1.count()#Counts elements in each col by default (axis 0)\n",
    "print(count)\n",
    "\n",
    "print('---------------------')\n",
    "count_axis = df1.count(axis=1)#Axis 1 will get count of elements per row\n",
    "print(count_axis)\n",
    "\n",
    "print('---------------------')\n",
    "minimum = df.min(axis=1)#Gets minimum of col or row based on axis. Col is default\n",
    "print(minimum)\n",
    "\n",
    "print('---------------------')\n",
    "description = df1.describe()#describe function returns several properties of the df\n",
    "print(description)\n",
    "\n",
    "print('---------------------')\n",
    "n_largest = df1.nlargest(2, ['Col2'] )#this will return the entire row when the value in col 2 is greater than 2 and then wort them in descending order\n",
    "print(n_largest)\n",
    "\n",
    "print('---------------------')\n",
    "comparison_largest = df1.nlargest(3, ['Col2', 'Col3'])#this will get the 3 rows with the highest values across Col2. If there's a tie then Col3 is considered to break the tie\n",
    "print(comparison_largest)\n",
    "\n",
    "print('---------------------')\n",
    "index_max = df1.idxmax(axis=1)#returns the index for the highest value per row. Axis 0 will return highest index value per column\n",
    "print(index_max)\n",
    "\n",
    "print('---------------------')\n",
    "index_labels = df1.index#will return label names for each row\n",
    "print(index_labels)\n",
    "\n",
    "print('---------------------')#will retun label names for each column\n",
    "column_labels = df1.columns\n",
    "print(column_labels)\n"
   ]
  },
  {
   "cell_type": "code",
   "execution_count": null,
   "id": "e66d2043",
   "metadata": {},
   "outputs": [],
   "source": [
    "#Histograms\n",
    "df2 = pd.DataFrame({\n",
    "    'Col1': {'Row1': 1, 'Row2': 1, 'Row3': 2, 'Row4': 2},\n",
    "    'Col2': {'Row1': 50, 'Row2': 50, 'Row3': 70, 'Row4': 80},\n",
    "    'Col3': {'Row1': 10, 'Row2': 10, 'Row3': 10, 'Row4': 40},\n",
    "    'Col4': {'Row1': 5, 'Row2': 5, 'Row3': 5, 'Row4': 5}\n",
    "})\n",
    "\n",
    "histogram = df2.hist()#this is a graph to visualize the number of times the same value occurs in a column\n",
    "#There are several overloads for this method you can use to visualize the data you want to see\n"
   ]
  },
  {
   "cell_type": "code",
   "execution_count": null,
   "id": "d07ff002",
   "metadata": {},
   "outputs": [],
   "source": []
  }
 ],
 "metadata": {
  "kernelspec": {
   "display_name": ".venv",
   "language": "python",
   "name": "python3"
  },
  "language_info": {
   "codemirror_mode": {
    "name": "ipython",
    "version": 3
   },
   "file_extension": ".py",
   "mimetype": "text/x-python",
   "name": "python",
   "nbconvert_exporter": "python",
   "pygments_lexer": "ipython3",
   "version": "3.13.5"
  }
 },
 "nbformat": 4,
 "nbformat_minor": 5
}
