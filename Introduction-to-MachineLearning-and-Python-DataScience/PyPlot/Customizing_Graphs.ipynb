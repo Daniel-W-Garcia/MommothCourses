{
 "cells": [
  {
   "cell_type": "code",
   "execution_count": null,
   "id": "e1e21d2a",
   "metadata": {},
   "outputs": [],
   "source": [
    "import os\n",
    "import pandas as np\n",
    "import numpy as np\n",
    "from matplotlib import pyplot as plt\n"
   ]
  },
  {
   "cell_type": "code",
   "execution_count": null,
   "id": "ea753576",
   "metadata": {},
   "outputs": [],
   "source": [
    "#Create Data\n",
    "x = np.arange(1,101)\n",
    "y = np.random.randint(1, 100, size=100)\n"
   ]
  },
  {
   "cell_type": "code",
   "execution_count": null,
   "id": "c584b31e",
   "metadata": {},
   "outputs": [],
   "source": [
    "#Custom Labels and Colors\n",
    "plt.plot(x,y, 'k')#color codes are b,g,r,c,m,y,k.w. You can also use 'blue'....etc or Hex Codes '#FF5733', '#00FF00'\n",
    "plt.title('Random Title')\n",
    "plt.xlabel('This is the X Label')\n",
    "plt.ylabel('This is the Y lable')\n",
    "\n",
    "plt.show()"
   ]
  },
  {
   "cell_type": "code",
   "execution_count": null,
   "id": "2c7548e1",
   "metadata": {},
   "outputs": [],
   "source": [
    "#Custom Plot Icons/Lines\n",
    "plt.plot(x,y, '+m')#Shape codes are '.', 'o', 'v', '^', '<', '>', 's', 'p', 'h', 'H', '+', 'x', 'D', 'd', '_', '|', '/', '\\\\', 1-8\n",
    "plt.title('Random Title')\n",
    "plt.xlabel('This is the X Label')\n",
    "plt.ylabel('This is the Y lable')\n",
    "\n",
    "plt.show()"
   ]
  },
  {
   "cell_type": "code",
   "execution_count": null,
   "id": "de1163c4",
   "metadata": {},
   "outputs": [],
   "source": [
    "#plt.setp\n",
    "plt.title('Random Title')\n",
    "plt.xlabel('This is the X Label')\n",
    "plt.ylabel('This is the Y lable')\n",
    "lines = plt.plot(x,y,)#can set lines right from here\n",
    "\n",
    "plt.setp(lines, linewidth=2, color='g' )\n",
    "plt.show()"
   ]
  }
 ],
 "metadata": {
  "kernelspec": {
   "display_name": ".venv",
   "language": "python",
   "name": "python3"
  },
  "language_info": {
   "codemirror_mode": {
    "name": "ipython",
    "version": 3
   },
   "file_extension": ".py",
   "mimetype": "text/x-python",
   "name": "python",
   "nbconvert_exporter": "python",
   "pygments_lexer": "ipython3",
   "version": "3.13.5"
  }
 },
 "nbformat": 4,
 "nbformat_minor": 5
}
