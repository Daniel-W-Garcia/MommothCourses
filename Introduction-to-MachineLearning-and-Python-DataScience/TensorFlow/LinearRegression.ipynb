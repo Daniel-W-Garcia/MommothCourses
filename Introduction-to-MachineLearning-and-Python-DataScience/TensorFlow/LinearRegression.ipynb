﻿{
 "cells": [
  {
   "metadata": {},
   "cell_type": "code",
   "source": [
    "import tensorflow as tf\n",
    "import numpy as np\n",
    "import matplotlib.pyplot as plt"
   ],
   "id": "516681d121cf500f",
   "outputs": [],
   "execution_count": null
  },
  {
   "metadata": {},
   "cell_type": "code",
   "source": [
    "m = 2\n",
    "b = .5\n",
    "x = np.linspace(0, 4, 100)\n",
    "y = (m*x)+b+np.random.rand(*x.shape) + .25 #formula for getting the slope of a line\n"
   ],
   "id": "4926f6c9e85ab9da",
   "outputs": [],
   "execution_count": null
  },
  {
   "metadata": {},
   "cell_type": "code",
   "source": [
    "plt.scatter(x,y)\n",
    "plt.show()"
   ],
   "id": "eeba589a7aaf4ad6",
   "outputs": [],
   "execution_count": null
  },
  {
   "metadata": {},
   "cell_type": "code",
   "source": [
    "class Model:\n",
    "    def __init__(self):\n",
    "        self.weight = tf.Variable(10.0)#In this case, this would be the slope (m)\n",
    "        self.bias = tf.Variable(10.0)#In this case, this would be the intercept (b)\n",
    "\n",
    "    #naming this '__call__' allows to use an instance of the class (m = Model) like m(5) instead of m.call(5)\n",
    "    def __call__(self, x):\n",
    "        return (self.weight * x) + self.bias#this is (m*x)+b for the goals of this model. so we're returning 'y' in this method"
   ],
   "id": "e26d57f6bf5717bf",
   "outputs": [],
   "execution_count": null
  },
  {
   "metadata": {},
   "cell_type": "code",
   "source": [
    "#Loss Function\n",
    "#Y expected is what the model is trying to get to. In this case the value of y at any given x value for a given slope\n",
    "def calculate_loss(y_actual, y_expected):\n",
    "    return tf.reduce_mean(tf.square(y_actual - y_expected)) #getting the difference in acutal vs expected, squaring it then averaging that down"
   ],
   "id": "3d691fdb839bbbc0",
   "outputs": [],
   "execution_count": null
  },
  {
   "metadata": {},
   "cell_type": "code",
   "source": [
    "def train(model, x, y_expected, learning_rate):\n",
    "    with tf.GradientTape() as gt:\n",
    "        y_output = model(x)\n",
    "        loss = calculate_loss(y_output, y_expected )\n",
    "    new_weight, new_bias = gt.gradient(loss, [model.weight, model.bias])#loss is what we are trying to minimize. bias and weight are the items that will be adjusted to reduce loss\n",
    "    model.weight.assign_sub(new_weight * learning_rate)\n",
    "    model.bias.assign_sub(new_bias * learning_rate)"
   ],
   "id": "bea1e43be949916f",
   "outputs": [],
   "execution_count": null
  },
  {
   "metadata": {},
   "cell_type": "code",
   "source": [
    "#Create the training loop\n",
    "model = Model()\n",
    "epochs = 100\n",
    "learning_rate = .15\n",
    "current_epochs =[] #just holding progress for visual representation of progress\n",
    "losses = [] #just holding progress for visual representation of progress\n",
    "#Loop to iterate through the 100 epocs\n",
    "for epoch in range(epochs):\n",
    "    y_output = model(x) #this is model.call(x)\n",
    "    loss = calculate_loss(y_output, y)\n",
    "    print(F\"Epoch {epoch} Loss: {loss.numpy()}\")\n",
    "    current_epochs.append(epoch)\n",
    "    losses.append(loss)\n",
    "    train(model, x, y, learning_rate)\n",
    "\n",
    "plt.plot(current_epochs, losses)\n",
    "plt.show()"
   ],
   "id": "fb473c2ab40ab642",
   "outputs": [],
   "execution_count": null
  },
  {
   "metadata": {},
   "cell_type": "code",
   "source": [
    "new_m = model.weight.numpy()#weight and bias are tensors, and we just want the value so using .numpy\n",
    "new_b = model.bias.numpy()\n",
    "print(new_m)#this should be close to 2 it started as 10\n",
    "print(new_b)#this should be close to .5 It started as 10"
   ],
   "id": "304829ba13452c16",
   "outputs": [],
   "execution_count": null
  },
  {
   "metadata": {
    "ExecuteTime": {
     "end_time": "2025-08-06T01:56:20.922222Z",
     "start_time": "2025-08-06T01:56:20.876229Z"
    }
   },
   "cell_type": "code",
   "source": [
    "new_y = (new_m * x) + new_b\n",
    "plt.scatter(x,y)\n",
    "plt.scatter(x, new_y)\n",
    "plt.show()"
   ],
   "id": "a808448b0f105b48",
   "outputs": [
    {
     "data": {
      "text/plain": [
       "<Figure size 640x480 with 1 Axes>"
      ],
      "image/png": "[encoded data removed]"
     },
     "metadata": {},
     "output_type": "display_data"
    }
   ],
   "execution_count": 19
  },
  {
   "metadata": {},
   "cell_type": "code",
   "outputs": [],
   "execution_count": null,
   "source": "",
   "id": "7636d65b7b9d03a1"
  }
 ],
 "metadata": {
  "kernelspec": {
   "display_name": "Python 3",
   "language": "python",
   "name": "python3"
  },
  "language_info": {
   "codemirror_mode": {
    "name": "ipython",
    "version": 2
   },
   "file_extension": ".py",
   "mimetype": "text/x-python",
   "name": "python",
   "nbconvert_exporter": "python",
   "pygments_lexer": "ipython2",
   "version": "2.7.6"
  }
 },
 "nbformat": 4,
 "nbformat_minor": 5
}
